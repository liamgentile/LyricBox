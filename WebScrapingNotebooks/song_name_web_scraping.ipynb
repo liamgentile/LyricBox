{
 "cells": [
  {
   "cell_type": "markdown",
   "id": "175638da",
   "metadata": {},
   "source": [
    "# Song Name Web Scraping"
   ]
  },
  {
   "cell_type": "markdown",
   "id": "35d52589",
   "metadata": {},
   "source": [
    "In this notebook, I collect the names of songs from the website AZ Lyrics using Selenium."
   ]
  },
  {
   "cell_type": "markdown",
   "id": "assigned-forty",
   "metadata": {},
   "source": [
    "First I will import the necessary packages for webscraping with selenium."
   ]
  },
  {
   "cell_type": "code",
   "execution_count": 2,
   "id": "dangerous-brush",
   "metadata": {
    "scrolled": false
   },
   "outputs": [],
   "source": [
    "import requests\n",
    "from time import sleep\n",
    "import csv\n",
    "import json\n",
    "import re\n",
    "from selenium.webdriver.support.ui import WebDriverWait\n",
    "from selenium.webdriver.support import expected_conditions\n",
    "from selenium.webdriver.common.by import By\n",
    "from seleniumwire import webdriver\n",
    "from webdriver_manager.chrome import ChromeDriverManager\n"
   ]
  },
  {
   "cell_type": "markdown",
   "id": "elect-beach",
   "metadata": {},
   "source": [
    "https://github.com/aakashbansal/Songs-Lyrics-Web-Scraper/blob/master/Songs%20Names%20Scraper.ipynb - this source helped me in designing my webscraping process."
   ]
  },
  {
   "cell_type": "markdown",
   "id": "d974a0d5",
   "metadata": {},
   "source": [
    "The structure of the AZ lyrics for the song list of an artist is artist_name/first_letter_artist_name."
   ]
  },
  {
   "cell_type": "code",
   "execution_count": 6,
   "id": "experimental-cache",
   "metadata": {},
   "outputs": [],
   "source": [
    "# url to scrape the songs list from\n",
    "base_url = \"https://www.azlyrics.com/{}/{}.html\""
   ]
  },
  {
   "cell_type": "markdown",
   "id": "ebb9ec32",
   "metadata": {},
   "source": [
    "Below I made a list of folk/indie artists. Their name is formatted according to the url in azlyrics, and has to be exactly the same in order for the url to run properly."
   ]
  },
  {
   "cell_type": "code",
   "execution_count": 32,
   "id": "compound-equilibrium",
   "metadata": {},
   "outputs": [],
   "source": [
    "# artists list whose songs list is to be made\n",
    "folk_indie_artists = ['johndenver', 'kriskristofferson', 'cohen', \n",
    "                      'paulsimon', 'catstevens', 'tracychapman', 'vanmorrison', \n",
    "                      'jamesblunt', 'johnprine', 'gordonlightfoot', 'tragicallyhip', \n",
    "                      'georgeezra', 'woodyguthrie', 'kdlang', 'nickdrake', 'aimeemann', \n",
    "                      'passenger', 'arloguthrie', 'boniver', 'liannelahavas', 'dylan', \n",
    "                      'jonimitchell', 'young', 'jamestaylor', 'simongarfunkel', \n",
    "                      'lumineers', 'mumfordsons', 'fleetfoxes', 'tallestmanonearth', \n",
    "                      'headandtheheart', 'beirut', 'feist', 'decemberists', 'civilwars',\n",
    "                      'bandofhorses', 'rice', 'joanbaez', 'vega', 'caroleking', \n",
    "                      \"sineadoconnor\", 'ninasimone', 'judycollins',\n",
    "                      'arcadefire', 'shins', 'smiths', 'sufjanstevens', 'brokensocialscene', \n",
    "                      'pixies', 'girlinred', 'stvincent', 'florencethemachine', 'neutralmilkhotel',\n",
    "                      'kooks', 'lordhuron', 'phoebebridgers', 'macdemarco', 'rem', 'newpornographers',\n",
    "                      'toroymoi', 'cityandcolour', 'greatlakeswimmers', 'menitrust', 'national', 'tomodell',\n",
    "                      'ohwonder', 'ofmontreal', 'wainwright', 'fatherjohnmisty']\n",
    "\n",
    "# defining an empty dictionary in which the song names will be mapped to artists\n",
    "songs_dict = { }"
   ]
  },
  {
   "cell_type": "markdown",
   "id": "3666c2f6",
   "metadata": {},
   "source": [
    "Now I will collect the song names by looping through the list of folk artists... \n",
    "\n",
    "#### Note:\n",
    "- the error you see below is due to me accidentally running the code again during the notebook cleanup process. The code worked fine and I successfully collected the data, as you will see in the cells further below."
   ]
  },
  {
   "cell_type": "code",
   "execution_count": 3,
   "id": "gorgeous-listening",
   "metadata": {
    "scrolled": true
   },
   "outputs": [
    {
     "name": "stderr",
     "output_type": "stream",
     "text": [
      "[WDM] - ====== WebDriver manager ======\n",
      "[WDM] - Current google-chrome version is 89.0.4389\n",
      "[WDM] - Get LATEST driver version for 89.0.4389\n"
     ]
    },
    {
     "name": "stdout",
     "output_type": "stream",
     "text": [
      "\n",
      "\n"
     ]
    },
    {
     "name": "stderr",
     "output_type": "stream",
     "text": [
      "[WDM] - Driver [/Users/liamgentile/.wdm/drivers/chromedriver/mac64/89.0.4389.23/chromedriver] found in cache\n"
     ]
    },
    {
     "ename": "NameError",
     "evalue": "name 'folk_indie_artists' is not defined",
     "output_type": "error",
     "traceback": [
      "\u001b[0;31m---------------------------------------------------------------------------\u001b[0m",
      "\u001b[0;31mNameError\u001b[0m                                 Traceback (most recent call last)",
      "\u001b[0;32m<ipython-input-3-92cbf10f1f14>\u001b[0m in \u001b[0;36m<module>\u001b[0;34m\u001b[0m\n\u001b[1;32m      1\u001b[0m \u001b[0mdriver\u001b[0m \u001b[0;34m=\u001b[0m \u001b[0mwebdriver\u001b[0m\u001b[0;34m.\u001b[0m\u001b[0mChrome\u001b[0m\u001b[0;34m(\u001b[0m\u001b[0mChromeDriverManager\u001b[0m\u001b[0;34m(\u001b[0m\u001b[0;34m)\u001b[0m\u001b[0;34m.\u001b[0m\u001b[0minstall\u001b[0m\u001b[0;34m(\u001b[0m\u001b[0;34m)\u001b[0m\u001b[0;34m)\u001b[0m\u001b[0;34m\u001b[0m\u001b[0;34m\u001b[0m\u001b[0m\n\u001b[1;32m      2\u001b[0m \u001b[0;34m\u001b[0m\u001b[0m\n\u001b[0;32m----> 3\u001b[0;31m \u001b[0;32mfor\u001b[0m \u001b[0martist\u001b[0m \u001b[0;32min\u001b[0m \u001b[0mfolk_indie_artists\u001b[0m\u001b[0;34m:\u001b[0m\u001b[0;34m\u001b[0m\u001b[0;34m\u001b[0m\u001b[0m\n\u001b[0m\u001b[1;32m      4\u001b[0m \u001b[0;34m\u001b[0m\u001b[0m\n\u001b[1;32m      5\u001b[0m \u001b[0;34m\u001b[0m\u001b[0m\n",
      "\u001b[0;31mNameError\u001b[0m: name 'folk_indie_artists' is not defined"
     ]
    }
   ],
   "source": [
    "# this driver will allow me to automatically change the url page after each iteration\n",
    "driver = webdriver.Chrome(ChromeDriverManager().install())\n",
    "\n",
    "for artist in folk_indie_artists:\n",
    "    \n",
    "\n",
    "\n",
    "    #artist[0] refers to the first letter of the artist's name\n",
    "    artist_url = base_url.format(artist[0], artist)\n",
    "    print(\"Going to url : \", artist_url)\n",
    "    \n",
    "    driver.get(artist_url)\n",
    "    \n",
    "\n",
    "    # Get the artist name element\n",
    "    artist_name = driver.find_element_by_xpath('./html/body/div[2]/div/div[2]/h1/strong').get_attribute('textContent')\n",
    "    \n",
    "    # Remove the \"Lyric\" from the artist name\n",
    "    artist_name = artist_name[:-7]\n",
    "    \n",
    "    # Creating the list of song names that will go into the songs_dict\n",
    "    songs_dict[artist_name] = []\n",
    "    \n",
    "    # Get the song names elements\n",
    "    song_names = driver.find_elements_by_class_name(\"listalbum-item\")\n",
    "    \n",
    "    # Appending the song_names into the list within the songs_dict\n",
    "    for name in song_names:\n",
    "        songs_dict[artist_name].append(name.get_attribute('textContent'))\n",
    "    \n",
    "    sleep(5)"
   ]
  },
  {
   "cell_type": "markdown",
   "id": "ec7cbf0e",
   "metadata": {},
   "source": [
    "Now I will check the song count per artist just out of curiosity. "
   ]
  },
  {
   "cell_type": "code",
   "execution_count": 34,
   "id": "necessary-interview",
   "metadata": {
    "scrolled": true
   },
   "outputs": [
    {
     "name": "stdout",
     "output_type": "stream",
     "text": [
      "John Denver 339\n",
      "Kris Kristofferson 236\n",
      "Leonard Cohen 148\n",
      "Paul Simon 160\n",
      "Cat Stevens (Yusuf) 191\n",
      "Tracy Chapman 91\n",
      "Van Morrison 600\n",
      "James Blunt 96\n",
      "John Prine 233\n",
      "Gordon Lightfoot 251\n",
      "The Tragically Hip 169\n",
      "George Ezra 38\n",
      "Woody Guthrie 188\n",
      "k.d. lang 145\n",
      "Nick Drake 68\n",
      "Aimee Mann 139\n",
      "Passenger 156\n",
      "Arlo Guthrie 190\n",
      "Bon Iver 53\n",
      "Lianne La Havas 38\n",
      "Bob Dylan 503\n",
      "Joni Mitchell 197\n",
      "Neil Young 614\n",
      "James Taylor 252\n",
      "Simon & Garfunkel 111\n",
      "The Lumineers 56\n",
      "Mumford & Sons 76\n",
      "Fleet Foxes 59\n",
      "The Tallest Man On Earth 82\n",
      "The Head And The Heart 53\n",
      "Beirut 62\n",
      "Feist 63\n",
      "The Decemberists 124\n",
      "The Civil Wars 44\n",
      "Band Of Horses 61\n",
      "Damien Rice 58\n",
      "Joan Baez 459\n",
      "Suzanne Vega 102\n",
      "Carole King 269\n",
      "Sinead O'Connor 170\n",
      "Nina Simone 294\n",
      "Judy Collins 414\n",
      "Arcade Fire 94\n",
      "The Shins 62\n",
      "The Smiths 100\n",
      "Sufjan Stevens 249\n",
      "Broken Social Scene 62\n",
      "Pixies 135\n",
      "girl in red 41\n",
      "St. Vincent 102\n",
      "Florence + The Machine 92\n",
      "Neutral Milk Hotel 77\n",
      "The Kooks 119\n",
      "Lord Huron 48\n",
      "Phoebe Bridgers 35\n",
      "Mac DeMarco 77\n",
      "R.E.M. 212\n",
      "The New Pornographers 97\n",
      "Toro Y Moi 104\n",
      "City And Colour 93\n",
      "Great Lake Swimmers 96\n",
      "Men I Trust 55\n",
      "The National 136\n",
      "Tom Odell 68\n",
      "Oh Wonder 46\n",
      "Of Montreal 303\n",
      "Rufus Wainwright 184\n",
      "Father John Misty 63\n"
     ]
    }
   ],
   "source": [
    "for key,val in songs_dict.items():\n",
    "    print(key,len(val))"
   ]
  },
  {
   "cell_type": "markdown",
   "id": "5444d128",
   "metadata": {},
   "source": [
    "Using json, I will save the file so that I can import it into a later notebook in order to collect the song lyrics themselves."
   ]
  },
  {
   "cell_type": "code",
   "execution_count": 35,
   "id": "native-speed",
   "metadata": {},
   "outputs": [],
   "source": [
    "import json\n",
    "json_file = \"Folk-Artists-Songs-Mapping.json\"\n",
    "with open(json_file, 'w') as file:\n",
    "    json.dump(songs_dict, file)"
   ]
  },
  {
   "cell_type": "markdown",
   "id": "3faeba12",
   "metadata": {},
   "source": [
    "Now I repeated the same process but for rap artists, creating a list of artist names according to the url formatting of az-lyrics."
   ]
  },
  {
   "cell_type": "code",
   "execution_count": 17,
   "id": "swedish-benefit",
   "metadata": {},
   "outputs": [],
   "source": [
    "rap_artists = ['actionbronson', 'aesoprock', 'akon', 'amine', \n",
    "                    'anderson-paak', 'andre3000', 'asapferg', 'asaprocky', 'bigboi', \n",
    "                    'bigsean', 'bobbyshmurda', 'busta', 'cardi-b', 'chancetherapper',\n",
    "                    'common', 'dannybrown', 'drake', 'dominicfike', 'earlsweatshirt',\n",
    "                    'fettywap', 'frankocean', 'freddiegibbs', 'frenchmontana', \n",
    "                    'geazy', 'gza', 'guccimane', 'icet', 'icecube',\n",
    "                    'hopsin' , 'immortaltechnique', 'jcole', 'jayz', 'jazzcartier',\n",
    "                    'jid', 'budden', \"knaan\", 'west', 'kardinaloffishall', 'kos', \n",
    "                    'kehlani', 'kendricklamar', 'kidcudi', 'kodakblack',\n",
    "                    'ksi', 'lilb', 'lilwayne', 'lildicky', 'hill', 'logic', 'lupefiasco',\n",
    "                    'mia', 'macmiller', 'machinegunkelly', 'macklemore', \n",
    "                    'mchammer', 'meekmill', 'methodman', 'megantheestallion',\n",
    "                    'mfdoom', 'mickjenkins', 'mosdef', 'nas', 'cannon', 'natedogg', \n",
    "                    'nickiminaj', 'nipseyhussle', 'noname', 'notorious', \n",
    "                    'rakim', 'rejjiesnow', 'ricolove', 'riconasty',\n",
    "                    'roddyricch', 'rza', 'schoolboyq', 'snoopdogg', 'stormzy', \n",
    "                     'torylanez', 'tydollasign', 'vanillaice',\n",
    "                     'runthejewels', 'youngthug', 'rageagainst', 'publicenemy']"
   ]
  },
  {
   "cell_type": "markdown",
   "id": "e8a98902",
   "metadata": {},
   "source": [
    "I will again create a songs dictionary and loop through the artist names in order to collect the song names and append them to the dictionary."
   ]
  },
  {
   "cell_type": "code",
   "execution_count": 18,
   "id": "central-philadelphia",
   "metadata": {
    "scrolled": true
   },
   "outputs": [
    {
     "name": "stderr",
     "output_type": "stream",
     "text": [
      "[WDM] - ====== WebDriver manager ======\n"
     ]
    },
    {
     "name": "stdout",
     "output_type": "stream",
     "text": [
      "\n",
      "\n"
     ]
    },
    {
     "name": "stderr",
     "output_type": "stream",
     "text": [
      "[WDM] - Current google-chrome version is 89.0.4389\n",
      "[WDM] - Get LATEST driver version for 89.0.4389\n",
      "[WDM] - Driver [/Users/liamgentile/.wdm/drivers/chromedriver/mac64/89.0.4389.23/chromedriver] found in cache\n"
     ]
    },
    {
     "name": "stdout",
     "output_type": "stream",
     "text": [
      "Going to url :  https://www.azlyrics.com/a/actionbronson.html\n",
      "Going to url :  https://www.azlyrics.com/a/aesoprock.html\n",
      "Going to url :  https://www.azlyrics.com/a/akon.html\n",
      "Going to url :  https://www.azlyrics.com/a/amine.html\n",
      "Going to url :  https://www.azlyrics.com/a/anderson-paak.html\n",
      "Going to url :  https://www.azlyrics.com/a/andre3000.html\n",
      "Going to url :  https://www.azlyrics.com/a/asapferg.html\n",
      "Going to url :  https://www.azlyrics.com/a/asaprocky.html\n",
      "Going to url :  https://www.azlyrics.com/b/bigboi.html\n",
      "Going to url :  https://www.azlyrics.com/b/bigsean.html\n",
      "Going to url :  https://www.azlyrics.com/b/bobbyshmurda.html\n",
      "Going to url :  https://www.azlyrics.com/b/busta.html\n",
      "Going to url :  https://www.azlyrics.com/c/cardi-b.html\n",
      "Going to url :  https://www.azlyrics.com/c/chancetherapper.html\n",
      "Going to url :  https://www.azlyrics.com/c/common.html\n",
      "Going to url :  https://www.azlyrics.com/d/dannybrown.html\n",
      "Going to url :  https://www.azlyrics.com/d/drake.html\n",
      "Going to url :  https://www.azlyrics.com/d/dominicfike.html\n",
      "Going to url :  https://www.azlyrics.com/e/earlsweatshirt.html\n",
      "Going to url :  https://www.azlyrics.com/f/fettywap.html\n",
      "Going to url :  https://www.azlyrics.com/f/frankocean.html\n",
      "Going to url :  https://www.azlyrics.com/f/freddiegibbs.html\n",
      "Going to url :  https://www.azlyrics.com/f/frenchmontana.html\n",
      "Going to url :  https://www.azlyrics.com/g/geazy.html\n",
      "Going to url :  https://www.azlyrics.com/g/gza.html\n",
      "Going to url :  https://www.azlyrics.com/g/guccimane.html\n",
      "Going to url :  https://www.azlyrics.com/i/icet.html\n",
      "Going to url :  https://www.azlyrics.com/i/icecube.html\n",
      "Going to url :  https://www.azlyrics.com/h/hopsin.html\n",
      "Going to url :  https://www.azlyrics.com/i/immortaltechnique.html\n",
      "Going to url :  https://www.azlyrics.com/j/jcole.html\n",
      "Going to url :  https://www.azlyrics.com/j/jayz.html\n",
      "Going to url :  https://www.azlyrics.com/j/jazzcartier.html\n",
      "Going to url :  https://www.azlyrics.com/j/jid.html\n",
      "Going to url :  https://www.azlyrics.com/b/budden.html\n",
      "Going to url :  https://www.azlyrics.com/k/knaan.html\n",
      "Going to url :  https://www.azlyrics.com/w/west.html\n",
      "Going to url :  https://www.azlyrics.com/k/kardinaloffishall.html\n",
      "Going to url :  https://www.azlyrics.com/k/kos.html\n",
      "Going to url :  https://www.azlyrics.com/k/kehlani.html\n",
      "Going to url :  https://www.azlyrics.com/k/kendricklamar.html\n",
      "Going to url :  https://www.azlyrics.com/k/kidcudi.html\n",
      "Going to url :  https://www.azlyrics.com/k/kodakblack.html\n",
      "Going to url :  https://www.azlyrics.com/k/ksi.html\n",
      "Going to url :  https://www.azlyrics.com/l/lilb.html\n",
      "Going to url :  https://www.azlyrics.com/l/lilwayne.html\n",
      "Going to url :  https://www.azlyrics.com/l/lildicky.html\n",
      "Going to url :  https://www.azlyrics.com/h/hill.html\n",
      "Going to url :  https://www.azlyrics.com/l/logic.html\n",
      "Going to url :  https://www.azlyrics.com/l/lupefiasco.html\n",
      "Going to url :  https://www.azlyrics.com/m/mia.html\n",
      "Going to url :  https://www.azlyrics.com/m/macmiller.html\n",
      "Going to url :  https://www.azlyrics.com/m/machinegunkelly.html\n",
      "Going to url :  https://www.azlyrics.com/m/macklemore.html\n",
      "Going to url :  https://www.azlyrics.com/m/mchammer.html\n",
      "Going to url :  https://www.azlyrics.com/m/meekmill.html\n",
      "Going to url :  https://www.azlyrics.com/m/methodman.html\n",
      "Going to url :  https://www.azlyrics.com/m/megantheestallion.html\n",
      "Going to url :  https://www.azlyrics.com/m/mfdoom.html\n",
      "Going to url :  https://www.azlyrics.com/m/mickjenkins.html\n",
      "Going to url :  https://www.azlyrics.com/m/mosdef.html\n",
      "Going to url :  https://www.azlyrics.com/n/nas.html\n",
      "Going to url :  https://www.azlyrics.com/c/cannon.html\n",
      "Going to url :  https://www.azlyrics.com/n/natedogg.html\n",
      "Going to url :  https://www.azlyrics.com/n/nickiminaj.html\n",
      "Going to url :  https://www.azlyrics.com/n/nipseyhussle.html\n",
      "Going to url :  https://www.azlyrics.com/n/noname.html\n",
      "Going to url :  https://www.azlyrics.com/n/notorious.html\n",
      "Going to url :  https://www.azlyrics.com/r/rakim.html\n",
      "Going to url :  https://www.azlyrics.com/r/rejjiesnow.html\n",
      "Going to url :  https://www.azlyrics.com/r/ricolove.html\n",
      "Going to url :  https://www.azlyrics.com/r/riconasty.html\n",
      "Going to url :  https://www.azlyrics.com/r/roddyricch.html\n",
      "Going to url :  https://www.azlyrics.com/r/rza.html\n",
      "Going to url :  https://www.azlyrics.com/s/schoolboyq.html\n",
      "Going to url :  https://www.azlyrics.com/s/snoopdogg.html\n",
      "Going to url :  https://www.azlyrics.com/s/stormzy.html\n",
      "Going to url :  https://www.azlyrics.com/t/torylanez.html\n",
      "Going to url :  https://www.azlyrics.com/t/tydollasign.html\n",
      "Going to url :  https://www.azlyrics.com/v/vanillaice.html\n",
      "Going to url :  https://www.azlyrics.com/r/runthejewels.html\n",
      "Going to url :  https://www.azlyrics.com/y/youngthug.html\n",
      "Going to url :  https://www.azlyrics.com/r/rageagainst.html\n",
      "Going to url :  https://www.azlyrics.com/p/publicenemy.html\n"
     ]
    }
   ],
   "source": [
    "rap_songs_dict = { }\n",
    "\n",
    "driver = webdriver.Chrome(ChromeDriverManager().install())\n",
    "\n",
    "\n",
    "for artist in rap_artists:\n",
    "    \n",
    "\n",
    "\n",
    "    \n",
    "    artist_url = base_url.format(artist[0], artist)\n",
    "    print(\"Going to url : \", artist_url)\n",
    "    \n",
    "    driver.get(artist_url)\n",
    "    \n",
    "\n",
    "    # Get the artist name element\n",
    "    artist_name = driver.find_element_by_xpath('./html/body/div[2]/div/div[2]/h1/strong').get_attribute('textContent')\n",
    "    \n",
    "    # Remove the \"Lyric\" from the artist name\n",
    "    artist_name = artist_name[:-7]\n",
    "    \n",
    "    rap_songs_dict[artist_name] = []\n",
    "    \n",
    "    # Get the song names elements\n",
    "    song_names = driver.find_elements_by_class_name(\"listalbum-item\")\n",
    "    \n",
    "    for name in song_names:\n",
    "        rap_songs_dict[artist_name].append(name.get_attribute('textContent'))\n",
    "    \n",
    "    sleep(5)"
   ]
  },
  {
   "cell_type": "markdown",
   "id": "bd0bb8fa",
   "metadata": {},
   "source": [
    "Checking the song counts by artist..."
   ]
  },
  {
   "cell_type": "code",
   "execution_count": 19,
   "id": "subject-abuse",
   "metadata": {
    "scrolled": true
   },
   "outputs": [
    {
     "name": "stdout",
     "output_type": "stream",
     "text": [
      "Action Bronson 161\n",
      "Aesop Rock 174\n",
      "Akon 170\n",
      "Aminé 98\n",
      "Anderson .Paak 86\n",
      "Andre 3000 15\n",
      "ASAP Ferg (A$AP Ferg) 120\n",
      "ASAP Rocky (A$AP Rocky) 102\n",
      "Big Boi 56\n",
      "Big Sean 212\n",
      "Bobby Shmurda 10\n",
      "Busta Rhymes 283\n",
      "Cardi B 58\n",
      "Chance The Rapper 136\n",
      "Common 181\n",
      "Danny Brown 120\n",
      "Drake 345\n",
      "Dominic Fike 28\n",
      "Earl Sweatshirt 67\n",
      "Fetty Wap 193\n",
      "Frank Ocean 166\n",
      "Freddie Gibbs 225\n",
      "French Montana 315\n",
      "G-Eazy 211\n",
      "GZA (The Genius) 89\n",
      "Gucci Mane 1029\n",
      "Ice-T 155\n",
      "Ice Cube 193\n",
      "Hopsin 118\n",
      "Immortal Technique 67\n",
      "J. Cole 238\n",
      "Jay-Z 312\n",
      "Jazz Cartier 69\n",
      "JID 64\n",
      "Joe Budden 203\n",
      "K'Naan 59\n",
      "Kanye West 233\n",
      "Kardinal Offishall 80\n",
      "k-os 81\n",
      "Kehlani 100\n",
      "Kendrick Lamar 170\n",
      "Kid Cudi 170\n",
      "Kodak Black 226\n",
      "KSI (KSIOlajideBT) 59\n",
      "Lil B 1049\n",
      "Lil Wayne 698\n",
      "Lil Dicky 75\n",
      "Lauryn Hill 43\n",
      "Logic 246\n",
      "Lupe Fiasco 253\n",
      "M.I.A. 125\n",
      "Mac Miller 283\n",
      "Machine Gun Kelly (MGK) 222\n",
      "Macklemore 94\n",
      "MC Hammer 36\n",
      "Meek Mill (Meek Millz) 275\n",
      "Method Man 251\n",
      "Megan Thee Stallion 81\n",
      "MF Doom 181\n",
      "Mick Jenkins 140\n",
      "Mos Def (Yasiin Bey) 80\n",
      "Nas 332\n",
      "Nick Cannon 54\n",
      "Nate Dogg 61\n",
      "Nicki Minaj 239\n",
      "Nipsey Hussle 212\n",
      "Noname 26\n",
      "Notorious B.I.G. (Biggie Smalls) 123\n",
      "Rakim 53\n",
      "Rejjie Snow 65\n",
      "Rico Love 110\n",
      "Rico Nasty 127\n",
      "Roddy Ricch 57\n",
      "RZA 148\n",
      "ScHoolboy Q 113\n",
      "Snoop Dogg 472\n",
      "Stormzy 73\n",
      "Tory Lanez 361\n",
      "Ty Dolla $ign (Ty Dolla Sign, Ty$) 196\n",
      "Vanilla Ice 76\n",
      "Run The Jewels 63\n",
      "Young Thug 370\n",
      "Rage Against The Machine 61\n",
      "Public Enemy 225\n"
     ]
    }
   ],
   "source": [
    "for key,val in rap_songs_dict.items():\n",
    "    print(key,len(val))"
   ]
  },
  {
   "cell_type": "markdown",
   "id": "68130f5a",
   "metadata": {},
   "source": [
    "Saving the dictionary to json..."
   ]
  },
  {
   "cell_type": "code",
   "execution_count": 20,
   "id": "everyday-intensity",
   "metadata": {},
   "outputs": [],
   "source": [
    "import json\n",
    "json_file = \"Rap-Artists-Songs-Mapping.json\"\n",
    "with open(json_file, 'w') as file:\n",
    "    json.dump(rap_songs_dict, file)"
   ]
  },
  {
   "cell_type": "markdown",
   "id": "ff6b3521",
   "metadata": {},
   "source": [
    "Now I will again do the same process with pop artists..."
   ]
  },
  {
   "cell_type": "code",
   "execution_count": 33,
   "id": "pointed-religious",
   "metadata": {},
   "outputs": [],
   "source": [
    "pop_artists = ['taylorswift', 'ladygaga', 'knowles', 'arianagrande', 'justinbieber',\n",
    "                    'katyperry', 'jackson', 'billieeilish', 'madonna', 'selenagomez',\n",
    "                    'rihanna', 'mileycyrus', 'dualipa', 'demilovato', 'lanadelrey',\n",
    "                    'brunomars', 'spears', 'edsheeran', 'shawnmendes', 'adele', \n",
    "                    'halsey', 'timberlake', 'maroon5', 'pink', \n",
    "                    'samsmith', 'onedirection', 'lorde', 'elliegoulding', 'beachboys', \n",
    "                    'john', 'beatles', 'avamax', 'harrystyles', 'sia', 'aguilera',\n",
    "                    'khalid', 'imaginedragons', 'bsb', 'lopez', 'janete',\n",
    "                    'cher', 'houston', 'jackson5', 'prince', 'turner', 'clarkson',\n",
    "                    \"nsync\", 'gwenstefani', 'blackeyedpeas', 'jonasbrothers', 'usher',\n",
    "                    'crow', 'newkids', 'collins',\n",
    "                    'fergie', 'amywinehouse', 'abba', 'simpson', 'nickjonas', 'michael',\n",
    "                    'lavigne', 'mayer', 'keha', 'toto', 'lizzo', \n",
    "                    'carlyraejepsen', 'twentyonepilots', 'fifthharmony', 'robthomas',\n",
    "                    'chainsmokers', 'jamesblunt', 'bedingfieldn', 'charlieputh', \n",
    "                    'ritaora', 'charlixcx', 'fun', 'niallhoran', 'lewiscapaldi',\n",
    "                    'dnce', 'lukasgraham', 'tovelo', 'jamesarthur', 'banks', 'jessiereyez',\n",
    "                    'maggierogers', 'mabel', 'avamax', 'kiiara', 'ellamai', 'annemarie',\n",
    "                    'alessiacara', 'juliamichaels', 'torikelly', 'knowless']"
   ]
  },
  {
   "cell_type": "code",
   "execution_count": 35,
   "id": "stretch-links",
   "metadata": {
    "scrolled": true
   },
   "outputs": [
    {
     "name": "stderr",
     "output_type": "stream",
     "text": [
      "[WDM] - ====== WebDriver manager ======\n"
     ]
    },
    {
     "name": "stdout",
     "output_type": "stream",
     "text": [
      "\n",
      "\n"
     ]
    },
    {
     "name": "stderr",
     "output_type": "stream",
     "text": [
      "[WDM] - Current google-chrome version is 89.0.4389\n",
      "[WDM] - Get LATEST driver version for 89.0.4389\n",
      "[WDM] - Driver [/Users/liamgentile/.wdm/drivers/chromedriver/mac64/89.0.4389.23/chromedriver] found in cache\n"
     ]
    },
    {
     "name": "stdout",
     "output_type": "stream",
     "text": [
      "Going to url :  https://www.azlyrics.com/t/taylorswift.html\n",
      "Going to url :  https://www.azlyrics.com/l/ladygaga.html\n",
      "Going to url :  https://www.azlyrics.com/k/knowles.html\n",
      "Going to url :  https://www.azlyrics.com/a/arianagrande.html\n",
      "Going to url :  https://www.azlyrics.com/j/justinbieber.html\n",
      "Going to url :  https://www.azlyrics.com/k/katyperry.html\n",
      "Going to url :  https://www.azlyrics.com/j/jackson.html\n",
      "Going to url :  https://www.azlyrics.com/b/billieeilish.html\n",
      "Going to url :  https://www.azlyrics.com/m/madonna.html\n",
      "Going to url :  https://www.azlyrics.com/s/selenagomez.html\n",
      "Going to url :  https://www.azlyrics.com/r/rihanna.html\n",
      "Going to url :  https://www.azlyrics.com/m/mileycyrus.html\n",
      "Going to url :  https://www.azlyrics.com/d/dualipa.html\n",
      "Going to url :  https://www.azlyrics.com/d/demilovato.html\n",
      "Going to url :  https://www.azlyrics.com/l/lanadelrey.html\n",
      "Going to url :  https://www.azlyrics.com/b/brunomars.html\n",
      "Going to url :  https://www.azlyrics.com/s/spears.html\n",
      "Going to url :  https://www.azlyrics.com/e/edsheeran.html\n",
      "Going to url :  https://www.azlyrics.com/s/shawnmendes.html\n",
      "Going to url :  https://www.azlyrics.com/a/adele.html\n",
      "Going to url :  https://www.azlyrics.com/h/halsey.html\n",
      "Going to url :  https://www.azlyrics.com/t/timberlake.html\n",
      "Going to url :  https://www.azlyrics.com/m/maroon5.html\n",
      "Going to url :  https://www.azlyrics.com/p/pink.html\n",
      "Going to url :  https://www.azlyrics.com/s/samsmith.html\n",
      "Going to url :  https://www.azlyrics.com/o/onedirection.html\n",
      "Going to url :  https://www.azlyrics.com/l/lorde.html\n",
      "Going to url :  https://www.azlyrics.com/e/elliegoulding.html\n",
      "Going to url :  https://www.azlyrics.com/b/beachboys.html\n",
      "Going to url :  https://www.azlyrics.com/j/john.html\n",
      "Going to url :  https://www.azlyrics.com/b/beatles.html\n",
      "Going to url :  https://www.azlyrics.com/a/avamax.html\n",
      "Going to url :  https://www.azlyrics.com/h/harrystyles.html\n",
      "Going to url :  https://www.azlyrics.com/s/sia.html\n",
      "Going to url :  https://www.azlyrics.com/a/aguilera.html\n",
      "Going to url :  https://www.azlyrics.com/k/khalid.html\n",
      "Going to url :  https://www.azlyrics.com/i/imaginedragons.html\n",
      "Going to url :  https://www.azlyrics.com/b/bsb.html\n",
      "Going to url :  https://www.azlyrics.com/l/lopez.html\n",
      "Going to url :  https://www.azlyrics.com/j/janete.html\n",
      "Going to url :  https://www.azlyrics.com/c/cher.html\n",
      "Going to url :  https://www.azlyrics.com/h/houston.html\n",
      "Going to url :  https://www.azlyrics.com/j/jackson5.html\n",
      "Going to url :  https://www.azlyrics.com/p/prince.html\n",
      "Going to url :  https://www.azlyrics.com/t/turner.html\n",
      "Going to url :  https://www.azlyrics.com/c/clarkson.html\n",
      "Going to url :  https://www.azlyrics.com/n/nsync.html\n",
      "Going to url :  https://www.azlyrics.com/g/gwenstefani.html\n",
      "Going to url :  https://www.azlyrics.com/b/blackeyedpeas.html\n",
      "Going to url :  https://www.azlyrics.com/j/jonasbrothers.html\n",
      "Going to url :  https://www.azlyrics.com/u/usher.html\n",
      "Going to url :  https://www.azlyrics.com/c/crow.html\n",
      "Going to url :  https://www.azlyrics.com/n/newkids.html\n",
      "Going to url :  https://www.azlyrics.com/c/collins.html\n",
      "Going to url :  https://www.azlyrics.com/f/fergie.html\n",
      "Going to url :  https://www.azlyrics.com/a/amywinehouse.html\n",
      "Going to url :  https://www.azlyrics.com/a/abba.html\n",
      "Going to url :  https://www.azlyrics.com/s/simpson.html\n",
      "Going to url :  https://www.azlyrics.com/n/nickjonas.html\n",
      "Going to url :  https://www.azlyrics.com/m/michael.html\n",
      "Going to url :  https://www.azlyrics.com/l/lavigne.html\n",
      "Going to url :  https://www.azlyrics.com/m/mayer.html\n",
      "Going to url :  https://www.azlyrics.com/k/keha.html\n",
      "Going to url :  https://www.azlyrics.com/t/toto.html\n",
      "Going to url :  https://www.azlyrics.com/l/lizzo.html\n",
      "Going to url :  https://www.azlyrics.com/c/carlyraejepsen.html\n",
      "Going to url :  https://www.azlyrics.com/t/twentyonepilots.html\n",
      "Going to url :  https://www.azlyrics.com/f/fifthharmony.html\n",
      "Going to url :  https://www.azlyrics.com/r/robthomas.html\n",
      "Going to url :  https://www.azlyrics.com/c/chainsmokers.html\n",
      "Going to url :  https://www.azlyrics.com/j/jamesblunt.html\n",
      "Going to url :  https://www.azlyrics.com/b/bedingfieldn.html\n",
      "Going to url :  https://www.azlyrics.com/c/charlieputh.html\n",
      "Going to url :  https://www.azlyrics.com/r/ritaora.html\n",
      "Going to url :  https://www.azlyrics.com/c/charlixcx.html\n",
      "Going to url :  https://www.azlyrics.com/f/fun.html\n",
      "Going to url :  https://www.azlyrics.com/n/niallhoran.html\n",
      "Going to url :  https://www.azlyrics.com/l/lewiscapaldi.html\n",
      "Going to url :  https://www.azlyrics.com/d/dnce.html\n",
      "Going to url :  https://www.azlyrics.com/l/lukasgraham.html\n",
      "Going to url :  https://www.azlyrics.com/t/tovelo.html\n",
      "Going to url :  https://www.azlyrics.com/j/jamesarthur.html\n",
      "Going to url :  https://www.azlyrics.com/b/banks.html\n",
      "Going to url :  https://www.azlyrics.com/j/jessiereyez.html\n",
      "Going to url :  https://www.azlyrics.com/m/maggierogers.html\n",
      "Going to url :  https://www.azlyrics.com/m/mabel.html\n",
      "Going to url :  https://www.azlyrics.com/a/avamax.html\n",
      "Going to url :  https://www.azlyrics.com/k/kiiara.html\n",
      "Going to url :  https://www.azlyrics.com/e/ellamai.html\n",
      "Going to url :  https://www.azlyrics.com/a/annemarie.html\n",
      "Going to url :  https://www.azlyrics.com/a/alessiacara.html\n",
      "Going to url :  https://www.azlyrics.com/j/juliamichaels.html\n",
      "Going to url :  https://www.azlyrics.com/t/torikelly.html\n",
      "Going to url :  https://www.azlyrics.com/k/knowless.html\n"
     ]
    }
   ],
   "source": [
    "# defining the dictionary for attaching song names to respective artists\n",
    "pop_songs_dict = { }\n",
    "# instantiating the Selenium driver for automatic webpage switching\n",
    "driver = webdriver.Chrome(ChromeDriverManager().install())\n",
    "\n",
    "for artist in pop_artists:\n",
    "    \n",
    "\n",
    "\n",
    "    # changing the url each time (filling in artist first letter and name)\n",
    "    artist_url = base_url.format(artist[0], artist)\n",
    "    print(\"Going to url : \", artist_url)\n",
    "    \n",
    "    driver.get(artist_url)\n",
    "    \n",
    "\n",
    "    # Get the artist name element\n",
    "    artist_name = driver.find_element_by_xpath('./html/body/div[2]/div/div[2]/h1/strong').get_attribute('textContent')\n",
    "    \n",
    "    # Remove the \"Lyric\" from the artist name\n",
    "    artist_name = artist_name[:-7]\n",
    "    \n",
    "    pop_songs_dict[artist_name] = []\n",
    "    \n",
    "    # Get the song names elements\n",
    "    song_names = driver.find_elements_by_class_name(\"listalbum-item\")\n",
    "    \n",
    "    for name in song_names:\n",
    "        pop_songs_dict[artist_name].append(name.get_attribute('textContent'))\n",
    "    \n",
    "    sleep(5)"
   ]
  },
  {
   "cell_type": "code",
   "execution_count": 36,
   "id": "suspected-elephant",
   "metadata": {
    "scrolled": true
   },
   "outputs": [
    {
     "name": "stdout",
     "output_type": "stream",
     "text": [
      "Taylor Swift 303\n",
      "Lady Gaga 241\n",
      "Beyonce (Beyoncé) 275\n",
      "Ariana Grande 156\n",
      "Justin Bieber 232\n",
      "Katy Perry 147\n",
      "Michael Jackson 250\n",
      "Billie Eilish 49\n",
      "Madonna 311\n",
      "Selena Gomez 102\n",
      "Rihanna 164\n",
      "Miley Cyrus 160\n",
      "Dua Lipa 93\n",
      "Demi Lovato 189\n",
      "Lana Del Rey 321\n",
      "Bruno Mars 82\n",
      "Britney Spears 228\n",
      "Ed Sheeran 193\n",
      "Shawn Mendes 101\n",
      "Adele 56\n",
      "Halsey 91\n",
      "Justin Timberlake 93\n",
      "Maroon 5 121\n",
      "Pink (P!nk) 148\n",
      "Sam Smith 83\n",
      "One Direction 110\n",
      "Lorde 41\n",
      "Ellie Goulding 128\n",
      "Beach Boys 351\n",
      "Elton John 458\n",
      "The Beatles 429\n",
      "Ava Max 35\n",
      "Harry Styles 33\n",
      "Sia 188\n",
      "Christina Aguilera 198\n",
      "Khalid 70\n",
      "Imagine Dragons 127\n",
      "Backstreet Boys 203\n",
      "Jennifer Lopez 172\n",
      "Janet Jackson 213\n",
      "Cher 317\n",
      "Whitney Houston 108\n",
      "Jackson 5 140\n",
      "Prince 566\n",
      "Tina Turner 114\n",
      "Kelly Clarkson 205\n",
      "'N Sync 92\n",
      "Gwen Stefani 71\n",
      "Black Eyed Peas 146\n",
      "Jonas Brothers 135\n",
      "Usher 198\n",
      "Sheryl Crow 165\n",
      "New Kids On The Block 121\n",
      "Phil Collins 136\n",
      "Fergie 47\n",
      "Amy Winehouse 62\n",
      "ABBA 126\n",
      "Jessica Simpson 104\n",
      "Nick Jonas 87\n",
      "George Michael 104\n",
      "Avril Lavigne 126\n",
      "John Mayer 121\n",
      "Kesha (Ke$ha) 183\n",
      "Toto 161\n",
      "Lizzo 56\n",
      "Carly Rae Jepsen 117\n",
      "Twenty One Pilots 99\n",
      "Fifth Harmony 81\n",
      "Rob Thomas 62\n",
      "The Chainsmokers 56\n",
      "James Blunt 96\n",
      "Natasha Bedingfield 90\n",
      "Charlie Puth 78\n",
      "Rita Ora 50\n",
      "Charli XCX 143\n",
      "Fun. 32\n",
      "Niall Horan 40\n",
      "Lewis Capaldi 37\n",
      "DNCE 31\n",
      "Lukas Graham 44\n",
      "Tove Lo 85\n",
      "James Arthur 104\n",
      "Banks 51\n",
      "Jessie Reyez 50\n",
      "Maggie Rogers 45\n",
      "Mabel 52\n",
      "Kiiara 33\n",
      "Ella Mai 45\n",
      "Anne-Marie 41\n",
      "Alessia Cara 50\n",
      "Julia Michaels 35\n",
      "Tori Kelly 104\n",
      "Solange Knowles 78\n"
     ]
    }
   ],
   "source": [
    "for key,val in pop_songs_dict.items():\n",
    "    print(key,len(val))"
   ]
  },
  {
   "cell_type": "code",
   "execution_count": 37,
   "id": "annoying-aurora",
   "metadata": {},
   "outputs": [],
   "source": [
    "import json\n",
    "json_file = \"Pop-Artists-Songs-Mapping.json\"\n",
    "with open(json_file, 'w') as file:\n",
    "    json.dump(pop_songs_dict, file)"
   ]
  },
  {
   "cell_type": "markdown",
   "id": "4022dbc2",
   "metadata": {},
   "source": [
    "## Great! Now I have song names mapped to artists in three different genres. In the next notebook I will move onto song lyric collection."
   ]
  }
 ],
 "metadata": {
  "kernelspec": {
   "display_name": "Python 3",
   "language": "python",
   "name": "python3"
  },
  "language_info": {
   "codemirror_mode": {
    "name": "ipython",
    "version": 3
   },
   "file_extension": ".py",
   "mimetype": "text/x-python",
   "name": "python",
   "nbconvert_exporter": "python",
   "pygments_lexer": "ipython3",
   "version": "3.8.5"
  },
  "toc": {
   "base_numbering": 1,
   "nav_menu": {},
   "number_sections": true,
   "sideBar": true,
   "skip_h1_title": false,
   "title_cell": "Table of Contents",
   "title_sidebar": "Contents",
   "toc_cell": false,
   "toc_position": {},
   "toc_section_display": true,
   "toc_window_display": false
  }
 },
 "nbformat": 4,
 "nbformat_minor": 5
}
