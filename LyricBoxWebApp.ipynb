{
  "nbformat": 4,
  "nbformat_minor": 0,
  "metadata": {
    "colab": {
      "name": "LyricBoxWebApp.ipynb",
      "provenance": []
    },
    "kernelspec": {
      "name": "python3",
      "display_name": "Python 3"
    },
    "language_info": {
      "name": "python"
    }
  },
  "cells": [
    {
      "cell_type": "code",
      "metadata": {
        "colab": {
          "base_uri": "https://localhost:8080/",
          "height": 1000
        },
        "id": "L0_3vzayBoNl",
        "outputId": "21e7f6a6-c9e1-42b4-c6dc-4303d02e6e58"
      },
      "source": [
        "!pip install streamlit\n",
        "!pip install pyngrok"
      ],
      "execution_count": 1,
      "outputs": [
        {
          "output_type": "stream",
          "text": [
            "Collecting streamlit\n",
            "\u001b[?25l  Downloading https://files.pythonhosted.org/packages/8f/5c/ab7eb2b8577469981707ae2c8e3709c9fe99cca0026cad4bedaa1d980c56/streamlit-0.81.1-py2.py3-none-any.whl (8.2MB)\n",
            "\u001b[K     |████████████████████████████████| 8.2MB 24.8MB/s \n",
            "\u001b[?25hRequirement already satisfied: cachetools>=4.0 in /usr/local/lib/python3.7/dist-packages (from streamlit) (4.2.2)\n",
            "Collecting validators\n",
            "  Downloading https://files.pythonhosted.org/packages/db/2f/7fed3ee94ad665ad2c1de87f858f10a7785251ff75b4fd47987888d07ef1/validators-0.18.2-py3-none-any.whl\n",
            "Collecting base58\n",
            "  Downloading https://files.pythonhosted.org/packages/b8/a1/d9f565e9910c09fd325dc638765e8843a19fa696275c16cc08cf3b0a3c25/base58-2.1.0-py3-none-any.whl\n",
            "Collecting blinker\n",
            "\u001b[?25l  Downloading https://files.pythonhosted.org/packages/1b/51/e2a9f3b757eb802f61dc1f2b09c8c99f6eb01cf06416c0671253536517b6/blinker-1.4.tar.gz (111kB)\n",
            "\u001b[K     |████████████████████████████████| 112kB 50.1MB/s \n",
            "\u001b[?25hRequirement already satisfied: tornado>=5.0 in /usr/local/lib/python3.7/dist-packages (from streamlit) (5.1.1)\n",
            "Requirement already satisfied: packaging in /usr/local/lib/python3.7/dist-packages (from streamlit) (20.9)\n",
            "Requirement already satisfied: pillow>=6.2.0 in /usr/local/lib/python3.7/dist-packages (from streamlit) (7.1.2)\n",
            "Requirement already satisfied: toml in /usr/local/lib/python3.7/dist-packages (from streamlit) (0.10.2)\n",
            "Requirement already satisfied: altair>=3.2.0 in /usr/local/lib/python3.7/dist-packages (from streamlit) (4.1.0)\n",
            "Requirement already satisfied: protobuf!=3.11,>=3.6.0 in /usr/local/lib/python3.7/dist-packages (from streamlit) (3.12.4)\n",
            "Requirement already satisfied: pyarrow; python_version < \"3.9\" in /usr/local/lib/python3.7/dist-packages (from streamlit) (3.0.0)\n",
            "Requirement already satisfied: python-dateutil in /usr/local/lib/python3.7/dist-packages (from streamlit) (2.8.1)\n",
            "Requirement already satisfied: click>=7.0 in /usr/local/lib/python3.7/dist-packages (from streamlit) (7.1.2)\n",
            "Collecting pydeck>=0.1.dev5\n",
            "\u001b[?25l  Downloading https://files.pythonhosted.org/packages/d6/bc/f0e44828e4290367c869591d50d3671a4d0ee94926da6cb734b7b200308c/pydeck-0.6.2-py2.py3-none-any.whl (4.2MB)\n",
            "\u001b[K     |████████████████████████████████| 4.2MB 36.4MB/s \n",
            "\u001b[?25hCollecting gitpython\n",
            "\u001b[?25l  Downloading https://files.pythonhosted.org/packages/a6/99/98019716955ba243657daedd1de8f3a88ca1f5b75057c38e959db22fb87b/GitPython-3.1.14-py3-none-any.whl (159kB)\n",
            "\u001b[K     |████████████████████████████████| 163kB 35.8MB/s \n",
            "\u001b[?25hRequirement already satisfied: requests in /usr/local/lib/python3.7/dist-packages (from streamlit) (2.23.0)\n",
            "Requirement already satisfied: astor in /usr/local/lib/python3.7/dist-packages (from streamlit) (0.8.1)\n",
            "Collecting watchdog; platform_system != \"Darwin\"\n",
            "\u001b[?25l  Downloading https://files.pythonhosted.org/packages/58/f6/6b538562aaa62294ca0a1d18b59d9fcb1a43fe166fa5b3a258f445d64119/watchdog-2.1.1-py3-none-manylinux2014_x86_64.whl (74kB)\n",
            "\u001b[K     |████████████████████████████████| 81kB 6.3MB/s \n",
            "\u001b[?25hRequirement already satisfied: numpy in /usr/local/lib/python3.7/dist-packages (from streamlit) (1.19.5)\n",
            "Requirement already satisfied: tzlocal in /usr/local/lib/python3.7/dist-packages (from streamlit) (1.5.1)\n",
            "Requirement already satisfied: pandas>=0.21.0 in /usr/local/lib/python3.7/dist-packages (from streamlit) (1.1.5)\n",
            "Requirement already satisfied: decorator>=3.4.0 in /usr/local/lib/python3.7/dist-packages (from validators->streamlit) (4.4.2)\n",
            "Requirement already satisfied: six>=1.4.0 in /usr/local/lib/python3.7/dist-packages (from validators->streamlit) (1.15.0)\n",
            "Requirement already satisfied: pyparsing>=2.0.2 in /usr/local/lib/python3.7/dist-packages (from packaging->streamlit) (2.4.7)\n",
            "Requirement already satisfied: jinja2 in /usr/local/lib/python3.7/dist-packages (from altair>=3.2.0->streamlit) (2.11.3)\n",
            "Requirement already satisfied: entrypoints in /usr/local/lib/python3.7/dist-packages (from altair>=3.2.0->streamlit) (0.3)\n",
            "Requirement already satisfied: jsonschema in /usr/local/lib/python3.7/dist-packages (from altair>=3.2.0->streamlit) (2.6.0)\n",
            "Requirement already satisfied: toolz in /usr/local/lib/python3.7/dist-packages (from altair>=3.2.0->streamlit) (0.11.1)\n",
            "Requirement already satisfied: setuptools in /usr/local/lib/python3.7/dist-packages (from protobuf!=3.11,>=3.6.0->streamlit) (56.1.0)\n",
            "Requirement already satisfied: ipywidgets>=7.0.0 in /usr/local/lib/python3.7/dist-packages (from pydeck>=0.1.dev5->streamlit) (7.6.3)\n",
            "Requirement already satisfied: traitlets>=4.3.2 in /usr/local/lib/python3.7/dist-packages (from pydeck>=0.1.dev5->streamlit) (5.0.5)\n",
            "Collecting ipykernel>=5.1.2; python_version >= \"3.4\"\n",
            "\u001b[?25l  Downloading https://files.pythonhosted.org/packages/89/2d/cff3898f2f58f41b1031c9f98501992ae0c8378919213b88884a1db064c2/ipykernel-5.5.4-py3-none-any.whl (120kB)\n",
            "\u001b[K     |████████████████████████████████| 122kB 28.8MB/s \n",
            "\u001b[?25hCollecting gitdb<5,>=4.0.1\n",
            "\u001b[?25l  Downloading https://files.pythonhosted.org/packages/ea/e8/f414d1a4f0bbc668ed441f74f44c116d9816833a48bf81d22b697090dba8/gitdb-4.0.7-py3-none-any.whl (63kB)\n",
            "\u001b[K     |████████████████████████████████| 71kB 7.9MB/s \n",
            "\u001b[?25hRequirement already satisfied: certifi>=2017.4.17 in /usr/local/lib/python3.7/dist-packages (from requests->streamlit) (2020.12.5)\n",
            "Requirement already satisfied: urllib3!=1.25.0,!=1.25.1,<1.26,>=1.21.1 in /usr/local/lib/python3.7/dist-packages (from requests->streamlit) (1.24.3)\n",
            "Requirement already satisfied: idna<3,>=2.5 in /usr/local/lib/python3.7/dist-packages (from requests->streamlit) (2.10)\n",
            "Requirement already satisfied: chardet<4,>=3.0.2 in /usr/local/lib/python3.7/dist-packages (from requests->streamlit) (3.0.4)\n",
            "Requirement already satisfied: pytz in /usr/local/lib/python3.7/dist-packages (from tzlocal->streamlit) (2018.9)\n",
            "Requirement already satisfied: MarkupSafe>=0.23 in /usr/local/lib/python3.7/dist-packages (from jinja2->altair>=3.2.0->streamlit) (1.1.1)\n",
            "Requirement already satisfied: ipython>=4.0.0; python_version >= \"3.3\" in /usr/local/lib/python3.7/dist-packages (from ipywidgets>=7.0.0->pydeck>=0.1.dev5->streamlit) (5.5.0)\n",
            "Requirement already satisfied: nbformat>=4.2.0 in /usr/local/lib/python3.7/dist-packages (from ipywidgets>=7.0.0->pydeck>=0.1.dev5->streamlit) (5.1.3)\n",
            "Requirement already satisfied: jupyterlab-widgets>=1.0.0; python_version >= \"3.6\" in /usr/local/lib/python3.7/dist-packages (from ipywidgets>=7.0.0->pydeck>=0.1.dev5->streamlit) (1.0.0)\n",
            "Requirement already satisfied: widgetsnbextension~=3.5.0 in /usr/local/lib/python3.7/dist-packages (from ipywidgets>=7.0.0->pydeck>=0.1.dev5->streamlit) (3.5.1)\n",
            "Requirement already satisfied: ipython-genutils in /usr/local/lib/python3.7/dist-packages (from traitlets>=4.3.2->pydeck>=0.1.dev5->streamlit) (0.2.0)\n",
            "Requirement already satisfied: jupyter-client in /usr/local/lib/python3.7/dist-packages (from ipykernel>=5.1.2; python_version >= \"3.4\"->pydeck>=0.1.dev5->streamlit) (5.3.5)\n",
            "Collecting smmap<5,>=3.0.1\n",
            "  Downloading https://files.pythonhosted.org/packages/68/ee/d540eb5e5996eb81c26ceffac6ee49041d473bc5125f2aa995cf51ec1cf1/smmap-4.0.0-py2.py3-none-any.whl\n",
            "Requirement already satisfied: pexpect; sys_platform != \"win32\" in /usr/local/lib/python3.7/dist-packages (from ipython>=4.0.0; python_version >= \"3.3\"->ipywidgets>=7.0.0->pydeck>=0.1.dev5->streamlit) (4.8.0)\n",
            "Requirement already satisfied: pickleshare in /usr/local/lib/python3.7/dist-packages (from ipython>=4.0.0; python_version >= \"3.3\"->ipywidgets>=7.0.0->pydeck>=0.1.dev5->streamlit) (0.7.5)\n",
            "Requirement already satisfied: pygments in /usr/local/lib/python3.7/dist-packages (from ipython>=4.0.0; python_version >= \"3.3\"->ipywidgets>=7.0.0->pydeck>=0.1.dev5->streamlit) (2.6.1)\n",
            "Requirement already satisfied: simplegeneric>0.8 in /usr/local/lib/python3.7/dist-packages (from ipython>=4.0.0; python_version >= \"3.3\"->ipywidgets>=7.0.0->pydeck>=0.1.dev5->streamlit) (0.8.1)\n",
            "Requirement already satisfied: prompt-toolkit<2.0.0,>=1.0.4 in /usr/local/lib/python3.7/dist-packages (from ipython>=4.0.0; python_version >= \"3.3\"->ipywidgets>=7.0.0->pydeck>=0.1.dev5->streamlit) (1.0.18)\n",
            "Requirement already satisfied: jupyter-core in /usr/local/lib/python3.7/dist-packages (from nbformat>=4.2.0->ipywidgets>=7.0.0->pydeck>=0.1.dev5->streamlit) (4.7.1)\n",
            "Requirement already satisfied: notebook>=4.4.1 in /usr/local/lib/python3.7/dist-packages (from widgetsnbextension~=3.5.0->ipywidgets>=7.0.0->pydeck>=0.1.dev5->streamlit) (5.3.1)\n",
            "Requirement already satisfied: pyzmq>=13 in /usr/local/lib/python3.7/dist-packages (from jupyter-client->ipykernel>=5.1.2; python_version >= \"3.4\"->pydeck>=0.1.dev5->streamlit) (22.0.3)\n",
            "Requirement already satisfied: ptyprocess>=0.5 in /usr/local/lib/python3.7/dist-packages (from pexpect; sys_platform != \"win32\"->ipython>=4.0.0; python_version >= \"3.3\"->ipywidgets>=7.0.0->pydeck>=0.1.dev5->streamlit) (0.7.0)\n",
            "Requirement already satisfied: wcwidth in /usr/local/lib/python3.7/dist-packages (from prompt-toolkit<2.0.0,>=1.0.4->ipython>=4.0.0; python_version >= \"3.3\"->ipywidgets>=7.0.0->pydeck>=0.1.dev5->streamlit) (0.2.5)\n",
            "Requirement already satisfied: nbconvert in /usr/local/lib/python3.7/dist-packages (from notebook>=4.4.1->widgetsnbextension~=3.5.0->ipywidgets>=7.0.0->pydeck>=0.1.dev5->streamlit) (5.6.1)\n",
            "Requirement already satisfied: terminado>=0.8.1 in /usr/local/lib/python3.7/dist-packages (from notebook>=4.4.1->widgetsnbextension~=3.5.0->ipywidgets>=7.0.0->pydeck>=0.1.dev5->streamlit) (0.9.4)\n",
            "Requirement already satisfied: Send2Trash in /usr/local/lib/python3.7/dist-packages (from notebook>=4.4.1->widgetsnbextension~=3.5.0->ipywidgets>=7.0.0->pydeck>=0.1.dev5->streamlit) (1.5.0)\n",
            "Requirement already satisfied: pandocfilters>=1.4.1 in /usr/local/lib/python3.7/dist-packages (from nbconvert->notebook>=4.4.1->widgetsnbextension~=3.5.0->ipywidgets>=7.0.0->pydeck>=0.1.dev5->streamlit) (1.4.3)\n",
            "Requirement already satisfied: testpath in /usr/local/lib/python3.7/dist-packages (from nbconvert->notebook>=4.4.1->widgetsnbextension~=3.5.0->ipywidgets>=7.0.0->pydeck>=0.1.dev5->streamlit) (0.4.4)\n",
            "Requirement already satisfied: bleach in /usr/local/lib/python3.7/dist-packages (from nbconvert->notebook>=4.4.1->widgetsnbextension~=3.5.0->ipywidgets>=7.0.0->pydeck>=0.1.dev5->streamlit) (3.3.0)\n",
            "Requirement already satisfied: defusedxml in /usr/local/lib/python3.7/dist-packages (from nbconvert->notebook>=4.4.1->widgetsnbextension~=3.5.0->ipywidgets>=7.0.0->pydeck>=0.1.dev5->streamlit) (0.7.1)\n",
            "Requirement already satisfied: mistune<2,>=0.8.1 in /usr/local/lib/python3.7/dist-packages (from nbconvert->notebook>=4.4.1->widgetsnbextension~=3.5.0->ipywidgets>=7.0.0->pydeck>=0.1.dev5->streamlit) (0.8.4)\n",
            "Requirement already satisfied: webencodings in /usr/local/lib/python3.7/dist-packages (from bleach->nbconvert->notebook>=4.4.1->widgetsnbextension~=3.5.0->ipywidgets>=7.0.0->pydeck>=0.1.dev5->streamlit) (0.5.1)\n",
            "Building wheels for collected packages: blinker\n",
            "  Building wheel for blinker (setup.py) ... \u001b[?25l\u001b[?25hdone\n",
            "  Created wheel for blinker: filename=blinker-1.4-cp37-none-any.whl size=13448 sha256=d08ff503ebb7c6c46142e760d64c8e3ed8208cad207fc83eff609460f06ad4d2\n",
            "  Stored in directory: /root/.cache/pip/wheels/92/a0/00/8690a57883956a301d91cf4ec999cc0b258b01e3f548f86e89\n",
            "Successfully built blinker\n",
            "\u001b[31mERROR: google-colab 1.0.0 has requirement ipykernel~=4.10, but you'll have ipykernel 5.5.4 which is incompatible.\u001b[0m\n",
            "Installing collected packages: validators, base58, blinker, ipykernel, pydeck, smmap, gitdb, gitpython, watchdog, streamlit\n",
            "  Found existing installation: ipykernel 4.10.1\n",
            "    Uninstalling ipykernel-4.10.1:\n",
            "      Successfully uninstalled ipykernel-4.10.1\n",
            "Successfully installed base58-2.1.0 blinker-1.4 gitdb-4.0.7 gitpython-3.1.14 ipykernel-5.5.4 pydeck-0.6.2 smmap-4.0.0 streamlit-0.81.1 validators-0.18.2 watchdog-2.1.1\n"
          ],
          "name": "stdout"
        },
        {
          "output_type": "display_data",
          "data": {
            "application/vnd.colab-display-data+json": {
              "pip_warning": {
                "packages": [
                  "ipykernel"
                ]
              }
            }
          },
          "metadata": {
            "tags": []
          }
        },
        {
          "output_type": "stream",
          "text": [
            "Collecting pyngrok\n",
            "\u001b[?25l  Downloading https://files.pythonhosted.org/packages/6b/4e/a2fe095bbe17cf26424c4abcd22a0490e22d01cc628f25af5e220ddbf6f0/pyngrok-5.0.5.tar.gz (745kB)\n",
            "\r\u001b[K     |▍                               | 10kB 12.2MB/s eta 0:00:01\r\u001b[K     |▉                               | 20kB 15.8MB/s eta 0:00:01\r\u001b[K     |█▎                              | 30kB 18.2MB/s eta 0:00:01\r\u001b[K     |█▊                              | 40kB 19.8MB/s eta 0:00:01\r\u001b[K     |██▏                             | 51kB 21.3MB/s eta 0:00:01\r\u001b[K     |██▋                             | 61kB 22.4MB/s eta 0:00:01\r\u001b[K     |███                             | 71kB 22.6MB/s eta 0:00:01\r\u001b[K     |███▌                            | 81kB 23.1MB/s eta 0:00:01\r\u001b[K     |████                            | 92kB 23.5MB/s eta 0:00:01\r\u001b[K     |████▍                           | 102kB 24.1MB/s eta 0:00:01\r\u001b[K     |████▉                           | 112kB 24.1MB/s eta 0:00:01\r\u001b[K     |█████▎                          | 122kB 24.1MB/s eta 0:00:01\r\u001b[K     |█████▊                          | 133kB 24.1MB/s eta 0:00:01\r\u001b[K     |██████▏                         | 143kB 24.1MB/s eta 0:00:01\r\u001b[K     |██████▋                         | 153kB 24.1MB/s eta 0:00:01\r\u001b[K     |███████                         | 163kB 24.1MB/s eta 0:00:01\r\u001b[K     |███████▌                        | 174kB 24.1MB/s eta 0:00:01\r\u001b[K     |████████                        | 184kB 24.1MB/s eta 0:00:01\r\u001b[K     |████████▍                       | 194kB 24.1MB/s eta 0:00:01\r\u001b[K     |████████▉                       | 204kB 24.1MB/s eta 0:00:01\r\u001b[K     |█████████▎                      | 215kB 24.1MB/s eta 0:00:01\r\u001b[K     |█████████▊                      | 225kB 24.1MB/s eta 0:00:01\r\u001b[K     |██████████▏                     | 235kB 24.1MB/s eta 0:00:01\r\u001b[K     |██████████▌                     | 245kB 24.1MB/s eta 0:00:01\r\u001b[K     |███████████                     | 256kB 24.1MB/s eta 0:00:01\r\u001b[K     |███████████▍                    | 266kB 24.1MB/s eta 0:00:01\r\u001b[K     |███████████▉                    | 276kB 24.1MB/s eta 0:00:01\r\u001b[K     |████████████▎                   | 286kB 24.1MB/s eta 0:00:01\r\u001b[K     |████████████▊                   | 296kB 24.1MB/s eta 0:00:01\r\u001b[K     |█████████████▏                  | 307kB 24.1MB/s eta 0:00:01\r\u001b[K     |█████████████▋                  | 317kB 24.1MB/s eta 0:00:01\r\u001b[K     |██████████████                  | 327kB 24.1MB/s eta 0:00:01\r\u001b[K     |██████████████▌                 | 337kB 24.1MB/s eta 0:00:01\r\u001b[K     |███████████████                 | 348kB 24.1MB/s eta 0:00:01\r\u001b[K     |███████████████▍                | 358kB 24.1MB/s eta 0:00:01\r\u001b[K     |███████████████▉                | 368kB 24.1MB/s eta 0:00:01\r\u001b[K     |████████████████▎               | 378kB 24.1MB/s eta 0:00:01\r\u001b[K     |████████████████▊               | 389kB 24.1MB/s eta 0:00:01\r\u001b[K     |█████████████████▏              | 399kB 24.1MB/s eta 0:00:01\r\u001b[K     |█████████████████▋              | 409kB 24.1MB/s eta 0:00:01\r\u001b[K     |██████████████████              | 419kB 24.1MB/s eta 0:00:01\r\u001b[K     |██████████████████▌             | 430kB 24.1MB/s eta 0:00:01\r\u001b[K     |███████████████████             | 440kB 24.1MB/s eta 0:00:01\r\u001b[K     |███████████████████▍            | 450kB 24.1MB/s eta 0:00:01\r\u001b[K     |███████████████████▉            | 460kB 24.1MB/s eta 0:00:01\r\u001b[K     |████████████████████▎           | 471kB 24.1MB/s eta 0:00:01\r\u001b[K     |████████████████████▊           | 481kB 24.1MB/s eta 0:00:01\r\u001b[K     |█████████████████████           | 491kB 24.1MB/s eta 0:00:01\r\u001b[K     |█████████████████████▌          | 501kB 24.1MB/s eta 0:00:01\r\u001b[K     |██████████████████████          | 512kB 24.1MB/s eta 0:00:01\r\u001b[K     |██████████████████████▍         | 522kB 24.1MB/s eta 0:00:01\r\u001b[K     |██████████████████████▉         | 532kB 24.1MB/s eta 0:00:01\r\u001b[K     |███████████████████████▎        | 542kB 24.1MB/s eta 0:00:01\r\u001b[K     |███████████████████████▊        | 552kB 24.1MB/s eta 0:00:01\r\u001b[K     |████████████████████████▏       | 563kB 24.1MB/s eta 0:00:01\r\u001b[K     |████████████████████████▋       | 573kB 24.1MB/s eta 0:00:01\r\u001b[K     |█████████████████████████       | 583kB 24.1MB/s eta 0:00:01\r\u001b[K     |█████████████████████████▌      | 593kB 24.1MB/s eta 0:00:01\r\u001b[K     |██████████████████████████      | 604kB 24.1MB/s eta 0:00:01\r\u001b[K     |██████████████████████████▍     | 614kB 24.1MB/s eta 0:00:01\r\u001b[K     |██████████████████████████▉     | 624kB 24.1MB/s eta 0:00:01\r\u001b[K     |███████████████████████████▎    | 634kB 24.1MB/s eta 0:00:01\r\u001b[K     |███████████████████████████▊    | 645kB 24.1MB/s eta 0:00:01\r\u001b[K     |████████████████████████████▏   | 655kB 24.1MB/s eta 0:00:01\r\u001b[K     |████████████████████████████▋   | 665kB 24.1MB/s eta 0:00:01\r\u001b[K     |█████████████████████████████   | 675kB 24.1MB/s eta 0:00:01\r\u001b[K     |█████████████████████████████▌  | 686kB 24.1MB/s eta 0:00:01\r\u001b[K     |██████████████████████████████  | 696kB 24.1MB/s eta 0:00:01\r\u001b[K     |██████████████████████████████▍ | 706kB 24.1MB/s eta 0:00:01\r\u001b[K     |██████████████████████████████▉ | 716kB 24.1MB/s eta 0:00:01\r\u001b[K     |███████████████████████████████▏| 727kB 24.1MB/s eta 0:00:01\r\u001b[K     |███████████████████████████████▋| 737kB 24.1MB/s eta 0:00:01\r\u001b[K     |████████████████████████████████| 747kB 24.1MB/s \n",
            "\u001b[?25hRequirement already satisfied: PyYAML in /usr/local/lib/python3.7/dist-packages (from pyngrok) (3.13)\n",
            "Building wheels for collected packages: pyngrok\n",
            "  Building wheel for pyngrok (setup.py) ... \u001b[?25l\u001b[?25hdone\n",
            "  Created wheel for pyngrok: filename=pyngrok-5.0.5-cp37-none-any.whl size=19246 sha256=d58266203d176f449d57dcd4a4a3436aee71d398cbf2c96e659ce5c35a084863\n",
            "  Stored in directory: /root/.cache/pip/wheels/0c/13/64/5ebbcc22eaf53fdf5766b397c1fb17c83f5775fdccf0ea1b88\n",
            "Successfully built pyngrok\n",
            "Installing collected packages: pyngrok\n",
            "Successfully installed pyngrok-5.0.5\n"
          ],
          "name": "stdout"
        }
      ]
    },
    {
      "cell_type": "code",
      "metadata": {
        "colab": {
          "base_uri": "https://localhost:8080/"
        },
        "id": "9Dil2ZoIEMoj",
        "outputId": "e7873e14-b278-457e-b46e-5feb88a8a1de"
      },
      "source": [
        "!ngrok authtoken 1sRtOtokQQhlBJ0cKZQ76bih9XY_mfQCCDhGPXzchrq3LdwM"
      ],
      "execution_count": 36,
      "outputs": [
        {
          "output_type": "stream",
          "text": [
            "Authtoken saved to configuration file: /root/.ngrok2/ngrok.yml\n"
          ],
          "name": "stdout"
        }
      ]
    },
    {
      "cell_type": "code",
      "metadata": {
        "colab": {
          "base_uri": "https://localhost:8080/"
        },
        "id": "2_m2WgqIBz7v",
        "outputId": "4e7af523-b757-4f50-f984-c02cc2082612"
      },
      "source": [
        "%%writefile app.py\n",
        "import streamlit as st \n",
        "import pandas as pd\n",
        "import numpy as np\n",
        "from keras.preprocessing.text import Tokenizer\n",
        "from keras.models import load_model\n",
        "import pickle\n",
        "\n",
        "'''\n",
        "# LyricBox\n",
        "'''\n",
        "'''\n",
        "### A neural network powered idea generator for artists with writer's block.\n",
        "'''\n",
        "\n",
        "'''\n",
        "#### Notes:\n",
        "\t\n",
        "\t- Avoid punctuation and capitalization in your prompt.\n",
        "\teg. write \"i cant help it\" not \"I can't help it.\"\n",
        "\n",
        "\t- I made an effort to remove potentially offensive \n",
        "\t  language from the vocabulary of the models. If, however, \n",
        "\t  something unsavoury is generated, this is simply by chance \n",
        "\t  and is not a view of the creator. \n",
        "'''\n",
        "prompt = st.text_input('Type your prompt here.')\n",
        "\n",
        "word_count_options = [5, 10, 15, 20, 25]\n",
        "word_count = st.selectbox(\"How many words do you want to generate?\", word_count_options)\n",
        "\n",
        "genre_options = ['folk', 'pop', 'hip hop']\n",
        "genres = st.selectbox(\"Which genre do you want to stylize your idea generator?\", genre_options)\n",
        "\n",
        "#folk_model import\n",
        "folk_model = load_model('/content/drive/MyDrive/folk_lyrics_RNN_model4.h5', compile=False)\n",
        "#pop_model import\n",
        "pop_model = load_model('/content/drive/MyDrive/pop_lyric_model.h5', compile=False)\n",
        "#hiphop_model import\n",
        "hiphop_model = load_model('/content/drive/MyDrive/rap_lyric_model.h5', compile=False)\n",
        "\n",
        "\n",
        "#tokenizer_folk import\n",
        "with open('/content/drive/MyDrive/folk_tokenizer.pkl', 'rb') as handle:\n",
        "    tokenizer_folk = pickle.load(handle)\n",
        "#tokenizer_pop import\n",
        "with open('/content/drive/MyDrive/pop_tokenizer.pkl', 'rb') as handle:\n",
        "    tokenizer_pop = pickle.load(handle)\n",
        "#tokenizer_hiphop import\n",
        "with open('/content/drive/MyDrive/rap_tokenizer.pkl', 'rb') as handle:\n",
        "    tokenizer_hiphop = pickle.load(handle)\n",
        "\n",
        "\n",
        "def folk_generate_text(prompt, word_count, folk_model):\n",
        "\n",
        "    # process for the model\n",
        "    number_of_classes_folk = 29826\n",
        "    processed_phrase = tokenizer_folk.texts_to_sequences([prompt])[0]\n",
        "    for i in range(word_count):\n",
        "      network_input = np.array(processed_phrase[-(len(processed_phrase)):], dtype=np.float32)\n",
        "      network_input = network_input.reshape((1, (len(processed_phrase)))) \n",
        "\n",
        "      # the RNN gives the probability of each word as the next one\n",
        "      predict_proba = folk_model.predict(network_input)[0] \n",
        "      \n",
        "      # sample one word using these chances\n",
        "      predicted_index = np.random.choice(number_of_classes_folk, 1, p=predict_proba)[0]\n",
        "\n",
        "      # add new index at the end of our list\n",
        "      processed_phrase.append(predicted_index)\n",
        "      \n",
        "\n",
        "  # indices mapped to words - the method expects a list of lists so we need the extra bracket\n",
        "      output_phrase = tokenizer_folk.sequences_to_texts([processed_phrase])[0]\n",
        "\n",
        "    return output_phrase\n",
        "\n",
        "\n",
        "def pop_generate_text(prompt, word_count, pop_model):\n",
        "\n",
        "\t   # process for the model\n",
        "    number_of_classes_pop = 26262\n",
        "    processed_phrase = tokenizer_pop.texts_to_sequences([prompt])[0]\n",
        "    for i in range(word_count):\n",
        "      network_input = np.array(processed_phrase[-(len(processed_phrase)):], dtype=np.float32)\n",
        "      network_input = network_input.reshape((1, (len(processed_phrase)))) \n",
        "\n",
        "      # the RNN gives the probability of each word as the next one\n",
        "      predict_proba = pop_model.predict(network_input)[0] \n",
        "      \n",
        "      # sample one word using these chances\n",
        "      predicted_index = np.random.choice(number_of_classes_pop, 1, p=predict_proba)[0]\n",
        "\n",
        "      # add new index at the end of our list\n",
        "      processed_phrase.append(predicted_index)\n",
        "      \n",
        "\n",
        "  # indices mapped to words - the method expects a list of lists so we need the extra bracket\n",
        "      output_phrase = tokenizer_pop.sequences_to_texts([processed_phrase])[0]\n",
        "\n",
        "    return output_phrase\n",
        "\n",
        "\n",
        "def hiphop_generate_text(prompt, word_count, hiphop_model):\n",
        "\n",
        "\t   # process for the model\n",
        "    number_of_classes_hiphop = 47324\n",
        "    processed_phrase = tokenizer_hiphop.texts_to_sequences([prompt])[0]\n",
        "    for i in range(word_count):\n",
        "      network_input = np.array(processed_phrase[-(len(processed_phrase)):], dtype=np.float32)\n",
        "      network_input = network_input.reshape((1, (len(processed_phrase)))) \n",
        "\n",
        "      # the RNN gives the probability of each word as the next one\n",
        "      predict_proba = hiphop_model.predict(network_input)[0] \n",
        "      \n",
        "      # sample one word using these chances\n",
        "      predicted_index = np.random.choice(number_of_classes_hiphop, 1, p=predict_proba)[0]\n",
        "\n",
        "      # add new index at the end of our list\n",
        "      processed_phrase.append(predicted_index)\n",
        "      \n",
        "\n",
        "  # indices mapped to words - the method expects a list of lists so we need the extra bracket\n",
        "      output_phrase = tokenizer_hiphop.sequences_to_texts([processed_phrase])[0]\n",
        "\n",
        "    return output_phrase\n",
        "\n",
        "# assigning the appropriate generate_text functions to genres.\n",
        "if st.button(\"Generate\"):\n",
        "  if genres == 'folk':\n",
        "    generated_text = folk_generate_text(prompt, word_count, folk_model)\n",
        "  if genres == 'pop':\n",
        "    generated_text = pop_generate_text(prompt, word_count, pop_model)   \n",
        "  if genres == 'hip hop':\n",
        "    generated_text = hiphop_generate_text(prompt, word_count, hiphop_model)\n",
        "\t\n",
        "\n",
        "  # extra layer of language protection. X has replaced offensive words.\n",
        "  if \"X\" not in generated_text:\n",
        "    st.write(generated_text)\n",
        "  else:\n",
        "    st.write(\"Please try again.\")\n",
        "\n",
        "\n",
        "'''\n",
        "----\n",
        "\n",
        "'''\n",
        "'''\n",
        "----\n",
        "'''\n",
        "'''\n",
        "----\n",
        "'''\n",
        "'''\n",
        "#### LyricBox is a project by Liam Gentile, a Toronto based data scientist.\n",
        "##### Have a question or comment? Email me at lyricbox@protonmail.com.\n",
        "'''"
      ],
      "execution_count": 114,
      "outputs": [
        {
          "output_type": "stream",
          "text": [
            "Overwriting app.py\n"
          ],
          "name": "stdout"
        }
      ]
    },
    {
      "cell_type": "code",
      "metadata": {
        "colab": {
          "base_uri": "https://localhost:8080/"
        },
        "id": "54RFi19gFHy7",
        "outputId": "2c0349f9-9479-4e3a-cb20-105fc7f4a340"
      },
      "source": [
        "!ngrok authtoken 1sRtOtokQQhlBJ0cKZQ76bih9XY_mfQCCDhGPXzchrq3LdwM"
      ],
      "execution_count": 115,
      "outputs": [
        {
          "output_type": "stream",
          "text": [
            "Authtoken saved to configuration file: /root/.ngrok2/ngrok.yml\n"
          ],
          "name": "stdout"
        }
      ]
    },
    {
      "cell_type": "code",
      "metadata": {
        "colab": {
          "base_uri": "https://localhost:8080/"
        },
        "id": "jBX9DU4lGlCf",
        "outputId": "31e5842d-2e40-4939-9ff4-9b006979ffe6"
      },
      "source": [
        "!ngrok http 3000"
      ],
      "execution_count": 45,
      "outputs": [
        {
          "output_type": "stream",
          "text": [
            "Traceback (most recent call last):\n",
            "  File \"/usr/lib/python3.7/subprocess.py\", line 1019, in wait\n",
            "    return self._wait(timeout=timeout)\n",
            "  File \"/usr/lib/python3.7/subprocess.py\", line 1653, in _wait\n",
            "    (pid, sts) = self._try_wait(0)\n",
            "  File \"/usr/lib/python3.7/subprocess.py\", line 1611, in _try_wait\n",
            "    (pid, sts) = os.waitpid(self.pid, wait_flags)\n",
            "KeyboardInterrupt\n",
            "\n",
            "During handling of the above exception, another exception occurred:\n",
            "\n",
            "Traceback (most recent call last):\n",
            "  File \"/usr/local/bin/ngrok\", line 8, in <module>\n",
            "    sys.exit(main())\n",
            "  File \"/usr/local/lib/python3.7/dist-packages/pyngrok/ngrok.py\", line 501, in main\n",
            "    run(sys.argv[1:])\n",
            "  File \"/usr/local/lib/python3.7/dist-packages/pyngrok/ngrok.py\", line 489, in run\n",
            "    process.run_process(pyngrok_config.ngrok_path, args)\n",
            "  File \"/usr/local/lib/python3.7/dist-packages/pyngrok/process.py\", line 339, in run_process\n",
            "    subprocess.call(start)\n",
            "  File \"/usr/lib/python3.7/subprocess.py\", line 341, in call\n",
            "    return p.wait(timeout=timeout)\n",
            "  File \"/usr/lib/python3.7/subprocess.py\", line 1032, in wait\n",
            "    self._wait(timeout=sigint_timeout)\n",
            "  File \"/usr/lib/python3.7/subprocess.py\", line 1647, in _wait\n",
            "    time.sleep(delay)\n",
            "KeyboardInterrupt\n"
          ],
          "name": "stdout"
        }
      ]
    },
    {
      "cell_type": "code",
      "metadata": {
        "id": "0bWMFqssFhLd"
      },
      "source": [
        "!streamlit run --server.port 80 app.py &>/dev/null&"
      ],
      "execution_count": 105,
      "outputs": []
    },
    {
      "cell_type": "code",
      "metadata": {
        "colab": {
          "base_uri": "https://localhost:8080/"
        },
        "id": "9reMh2IeCtvh",
        "outputId": "adb77385-988b-48a4-934b-8eeb77204fc6"
      },
      "source": [
        "from pyngrok import ngrok\n",
        "# Setup a tunnel to the streamlit port 8501\n",
        "public_url = ngrok.connect(port='80')\n",
        "public_url"
      ],
      "execution_count": 116,
      "outputs": [
        {
          "output_type": "execute_result",
          "data": {
            "text/plain": [
              "<NgrokTunnel: \"http://f4df671f6a7f.ngrok.io\" -> \"http://localhost:80\">"
            ]
          },
          "metadata": {
            "tags": []
          },
          "execution_count": 116
        }
      ]
    },
    {
      "cell_type": "code",
      "metadata": {
        "id": "_-3nhg7hGFpr"
      },
      "source": [
        ""
      ],
      "execution_count": null,
      "outputs": []
    },
    {
      "cell_type": "code",
      "metadata": {
        "id": "rOirjHlpEp56"
      },
      "source": [
        ""
      ],
      "execution_count": null,
      "outputs": []
    }
  ]
}